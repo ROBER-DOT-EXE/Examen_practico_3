{
 "cells": [
  {
   "cell_type": "markdown",
   "metadata": {
    "application/vnd.databricks.v1+cell": {
     "cellMetadata": {},
     "inputWidgets": {},
     "nuid": "1f826429-1b0b-452b-98d5-d724d06f8ba3",
     "showTitle": false,
     "tableResultSettingsMap": {},
     "title": ""
    }
   },
   "source": [
    "# Explorando tendencias de mercado de Airbnb"
   ]
  },
  {
   "cell_type": "markdown",
   "metadata": {
    "application/vnd.databricks.v1+cell": {
     "cellMetadata": {},
     "inputWidgets": {},
     "nuid": "30017573-ddfa-442e-931f-69e52cab3f33",
     "showTitle": false,
     "tableResultSettingsMap": {},
     "title": ""
    }
   },
   "source": [
    "La ciudad de Nueva York tiene una variedad de anuncios de Airbnb para satisfacer la alta demanda de alojamiento temporal para viajeros, con diferentes niveles de precios, tipos de habitaciones y ubicaciones."
   ]
  },
  {
   "cell_type": "markdown",
   "metadata": {
    "application/vnd.databricks.v1+cell": {
     "cellMetadata": {},
     "inputWidgets": {},
     "nuid": "9113a8f5-7192-4887-b383-2d285a405f0f",
     "showTitle": false,
     "tableResultSettingsMap": {},
     "title": ""
    }
   },
   "source": [
    "La ciudad de Nueva York, es una de las ciudades más visitadas del mundo. Hay muchos anuncios de Airbnb en la ciudad de Nueva York para satisfacer la alta demanda de alojamiento temporal para viajeros, que puede durar desde unas pocas noches hasta muchos meses. En este proyecto, analizaremos más de cerca el mercado de Airbnb de Nueva York combinando datos de varios tipos de archivos como .csv, .tsv y .xlsx.\n",
    "\n",
    "Recuerde que los archivos CSV, TSV y Excel son tres formatos comunes para almacenar datos. Tiene a su disposición [tres archivos](https://tajamar365.sharepoint.com/:f:/s/3405-MasterIA2024-2025/EoXMgjAJLLNJqWDyKDig8kABSUkpWj_HGQjl267qNnHS9g?e=foxjFc) que contienen datos sobre los anuncios de Airbnb de 2019:  \n",
    "\n",
    "- `airbnb_price.csv `: Este es un archivo CSV que contiene datos sobre precios y ubicaciones de anuncios de Airbnb.  \n",
    "  1. `listing_id`: identificador único del anuncio  \n",
    "  2. `price`: precio del anuncio por noche en USD  \n",
    "  3. `nbhood_full`: nombre del distrito y del barrio donde se encuentra el anuncio  \n",
    "    \n",
    "\n",
    "- `airbnb_room_type.xlsx`: Este es un archivo Excel que contiene datos sobre las descripciones de los anuncios de Airbnb y los tipos de habitaciones.  \n",
    "  1. `listing_id`: identificador único del anuncio  \n",
    "  2. `description`: descripción del anuncio     \n",
    "  3. `room_type`: Airbnb tiene tres tipos de habitaciones: habitaciones compartidas, habitaciones privadas y casas o apartamentos completos \n",
    "\n",
    "\n",
    "- `airbnb_last_review.tsv`: Este es un archivo TSV que contiene datos sobre los nombres de los anfitriones de Airbnb y las fechas de revisión.  \n",
    "  1. `listing_id`: identificador único del anuncio  \n",
    "  2. `host_name`:  nombre del anfitrión del anuncio  \n",
    "  3. `last_review`: echa en la que se revisó el anuncio por última vez   "
   ]
  },
  {
   "cell_type": "markdown",
   "metadata": {
    "application/vnd.databricks.v1+cell": {
     "cellMetadata": {},
     "inputWidgets": {},
     "nuid": "bab5e15d-251d-4092-9ec3-61f8a0d84f43",
     "showTitle": false,
     "tableResultSettingsMap": {},
     "title": ""
    }
   },
   "source": [
    "Como consultor que trabaja para una empresa inmobiliaria emergente, ha recopilado datos de anuncios de Airbnb de varias fuentes para investigar el mercado de alquileres a corto plazo en Nueva York. Analizará estos datos para brindar información sobre habitaciones privadas a la empresa inmobiliaria."
   ]
  },
  {
   "cell_type": "markdown",
   "metadata": {
    "application/vnd.databricks.v1+cell": {
     "cellMetadata": {},
     "inputWidgets": {},
     "nuid": "3db66806-50c8-46b2-ab8b-fb66b3602f7d",
     "showTitle": false,
     "tableResultSettingsMap": {},
     "title": ""
    }
   },
   "source": [
    "- ¿Cuáles son las fechas de las primeras y las últimas reseñas? Almacene estos valores como dos variables independientes con los nombres que prefiera.\n",
    "- ¿Cuántos de los anuncios son habitaciones privadas? Guárdelo en cualquier variable.\n",
    "- ¿Cuál es el precio promedio de los anuncios? Redondee a los dos decimales más cercanos y guárdelo en una variable.\n",
    "- Combine las nuevas variables en un DataFrame llamado review_dates con cuatro columnas en el siguiente orden: first_reviewed, last_reviewed, nb_private_rooms y avg_price. El DataFrame solo debe contener una fila de valores."
   ]
  },
  {
   "cell_type": "code",
   "execution_count": 0,
   "metadata": {
    "application/vnd.databricks.v1+cell": {
     "cellMetadata": {
      "byteLimit": 2048000,
      "rowLimit": 10000
     },
     "inputWidgets": {},
     "nuid": "bc87f8df-a1fb-47d1-a2a4-54b38ad97511",
     "showTitle": false,
     "tableResultSettingsMap": {},
     "title": ""
    }
   },
   "outputs": [
    {
     "output_type": "stream",
     "name": "stdout",
     "output_type": "stream",
     "text": [
      "DataFrame de precios:\n+----------+-----------+--------------------+\n|listing_id|      price|         nbhood_full|\n+----------+-----------+--------------------+\n|      2595|225 dollars|  Manhattan, Midtown|\n|      3831| 89 dollars|Brooklyn, Clinton...|\n|      5099|200 dollars|Manhattan, Murray...|\n+----------+-----------+--------------------+\nonly showing top 3 rows\n\n\nDataFrame de tipos de habitaciones:\n+----------+--------------------+---------------+\n|listing_id|         description|      room_type|\n+----------+--------------------+---------------+\n|      2595|Skylit Midtown Ca...|Entire home/apt|\n|      3831|Cozy Entire Floor...|Entire home/apt|\n|      5099|Large Cozy 1 BR A...|Entire home/apt|\n+----------+--------------------+---------------+\nonly showing top 3 rows\n\n\nDataFrame de reseñas:\n+----------+-----------+------------+\n|listing_id|  host_name| last_review|\n+----------+-----------+------------+\n|      2595|   Jennifer| May 21 2019|\n|      3831|LisaRoxanne|July 05 2019|\n|      5099|      Chris|June 22 2019|\n+----------+-----------+------------+\nonly showing top 3 rows\n\n+--------------+-------------+----------------+---------+\n|first_reviewed|last_reviewed|nb_private_rooms|avg_price|\n+--------------+-------------+----------------+---------+\n|2019-01-01    |2019-07-09   |1234            |141.78   |\n+--------------+-------------+----------------+---------+\n\n"
     ]
    }
   ],
   "source": [
    "from pyspark.sql.functions import *\n",
    "from pyspark.sql.types import *\n",
    "\n",
    "# Creo los dataframes en base a los archivos que he subido al dbfs (El archivo xlsx lo he transformado a csv antes de subirlo)\n",
    "df_precios = spark.read.option(\"header\", \"true\") \\\n",
    "               .option(\"delimiter\", \",\") \\\n",
    "               .option(\"multiline\", \"true\") \\\n",
    "               .csv(\"/FileStore/Caso_3/airbnb_price.csv\")\n",
    "\n",
    "df_tipos_de_habitacion = spark.read.option(\"header\", \"true\") \\\n",
    "                    .option(\"delimiter\", \",\") \\\n",
    "                    .option(\"multiline\", \"true\") \\\n",
    "                    .csv(\"/FileStore/Caso_3/airbnb_room_type.csv\")\n",
    "\n",
    "df_resenas = spark.read.csv('/FileStore/Caso_3/airbnb_last_review.tsv', header=True, sep='\\t')\n",
    "\n",
    "# Muestro las primeras 3 filas de cada DataFrame para comprobar que se lean bien\n",
    "print(\"DataFrame de precios:\")\n",
    "df_precios.show(3)\n",
    "\n",
    "print(\"\\nDataFrame de tipos de habitaciones:\")\n",
    "df_tipos_de_habitacion.show(3)\n",
    "\n",
    "print(\"\\nDataFrame de reseñas:\")\n",
    "df_resenas.show(3)\n",
    "\n",
    "\n",
    "# Obtengo las fechas de las primeras y últimas reseñas a partir de la columna convertida al formato correcto para evitar errores\n",
    "df_resenas = df_resenas.withColumn(\"last_review\", to_date(col(\"last_review\"), \"MMMM dd yyyy\"))\n",
    "revisado_por_primera_vez = df_resenas.select(min(\"last_review\")).collect()[0][0]\n",
    "revisado_por_ultima_vez = df_resenas.select(max(\"last_review\")).collect()[0][0]\n",
    "\n",
    "\n",
    "# Cuento cuántos anuncios son de habitaciones privadas\n",
    "numero_de_habitaciones_privadas = df_tipos_de_habitacion.filter(col(\"room_type\") == \"Private room\").count()\n",
    "\n",
    "# Calculo el precio promedio de los anuncios y redondeo a dos decimales\n",
    "precio_medio = df_precios.withColumn(\"price\", regexp_replace(col(\"price\"), \"[^0-9.]\", \"\").cast(\"float\"))\n",
    "precio_medio = precio_medio.select(round(avg(\"price\"), 2).alias(\"avg_price\")).collect()[0][0]\n",
    "\n",
    "# Creo el df con todo lo obtenido antes para mostrarlo\n",
    "df_final = spark.createDataFrame(\n",
    "    [(revisado_por_primera_vez, revisado_por_ultima_vez, numero_de_habitaciones_privadas, avg_price)],\n",
    "    [\"first_reviewed\", \"last_reviewed\", \"nb_private_rooms\", \"avg_price\"]\n",
    ")\n",
    "\n",
    "\n",
    "df_final.show(truncate=False)\n",
    "\n"
   ]
  }
 ],
 "metadata": {
  "application/vnd.databricks.v1+notebook": {
   "dashboards": [],
   "environmentMetadata": null,
   "language": "python",
   "notebookMetadata": {
    "pythonIndentUnit": 4
   },
   "notebookName": "Caso_3",
   "widgets": {}
  }
 },
 "nbformat": 4,
 "nbformat_minor": 0
}
