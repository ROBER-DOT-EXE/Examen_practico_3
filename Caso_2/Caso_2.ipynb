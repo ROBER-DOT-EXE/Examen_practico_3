{
 "cells": [
  {
   "cell_type": "markdown",
   "metadata": {
    "application/vnd.databricks.v1+cell": {
     "cellMetadata": {
      "byteLimit": 2048000,
      "rowLimit": 10000
     },
     "inputWidgets": {},
     "nuid": "7bc88472-0819-44bb-a870-05c265cca4c5",
     "showTitle": false,
     "tableResultSettingsMap": {},
     "title": ""
    }
   },
   "source": [
    "# Encontrando insights de la UEFA Champions League"
   ]
  },
  {
   "cell_type": "markdown",
   "metadata": {
    "application/vnd.databricks.v1+cell": {
     "cellMetadata": {
      "byteLimit": 2048000,
      "rowLimit": 10000
     },
     "inputWidgets": {},
     "nuid": "dec9c196-3f29-444f-a2f7-13e3827b29ef",
     "showTitle": false,
     "tableResultSettingsMap": {},
     "title": ""
    }
   },
   "source": [
    "La Liga de Campeones de la UEFA, a menudo llamada Liga de Campeones, es una competencia anual de fútbol por excelencia que cautiva a los fanáticos de todo el mundo. Establecida en 1955 como la Copa de Clubes Campeones de Europa, evolucionó a la Liga de Campeones de la UEFA en 1992, ampliando su atractivo. El formato moderno cuenta con 32 equipos de clubes de primer nivel seleccionados en función de su desempeño en la liga nacional, lo que aumenta la intriga.  \n",
    "\n",
    "Este evento electrizante trasciende los deportes y se convierte en una celebración de la unidad, la cultura y el orgullo nacional. Los fanáticos, vestidos con los colores de sus países, crean una atmósfera eléctrica, lo que hace que el torneo sea tanto sobre los espectadores como sobre los jugadores. Financieramente, la Liga de Campeones es un salvavidas para los clubes, ya que aumenta los ingresos y ofrece oportunidades transformadoras. Sin embargo, genera debates sobre las disparidades de riqueza en el fútbol europeo.  \n",
    "\n",
    "La Liga de Campeones es sinónimo de rivalidades históricas, triunfos de los desvalidos y brillantez individual. Para los jugadores, representa la cima de su carrera, mientras que para los fanáticos, es un fenómeno cultural. El himno y los rituales icónicos enriquecen la experiencia futbolística. En 200 palabras, la UEFA Champions League es el epítome de la excelencia del fútbol europeo, que ofrece momentos inolvidables, recompensas económicas y un impacto cultural único, con 32 clubes de primer nivel que se suman a su atractivo."
   ]
  },
  {
   "cell_type": "markdown",
   "metadata": {
    "application/vnd.databricks.v1+cell": {
     "cellMetadata": {
      "byteLimit": 2048000,
      "rowLimit": 10000
     },
     "inputWidgets": {},
     "nuid": "3ff8fe53-6686-4ae2-8c5b-662e85535ff5",
     "showTitle": false,
     "tableResultSettingsMap": {},
     "title": ""
    }
   },
   "source": [
    "**Nombres de las tablas o ficheros a utilizar**:  \n",
    "[uefa_2020.csv](https://tajamar365.sharepoint.com/:x:/s/3405-MasterIA2024-2025/EQuW8d16tZJKpYZN6jR480sBgc1IYypAw9hGHKQARS560g?e=7TybBU)  \n",
    "[uefa_2021.csv](https://tajamar365.sharepoint.com/:x:/s/3405-MasterIA2024-2025/ESG8YBrjD3tBky3aGT0MwIABNt_PQxFVVYVlWMnZYUmV8g?e=VrYHtX)  \n",
    "[uefa_2022.csv](https://tajamar365.sharepoint.com/:x:/s/3405-MasterIA2024-2025/Ecf8O8U8sxJLoW9Bkd2ZVzgBb_gZc35mNcprnR9FMlzliQ?e=Vn3a6v)  \n",
    "- Todas las tablas tienen las mismas columnas y data types"
   ]
  },
  {
   "cell_type": "markdown",
   "metadata": {
    "application/vnd.databricks.v1+cell": {
     "cellMetadata": {
      "byteLimit": 2048000,
      "rowLimit": 10000
     },
     "inputWidgets": {},
     "nuid": "910b06ac-21ef-4f0c-bb95-9611f90d7635",
     "showTitle": false,
     "tableResultSettingsMap": {},
     "title": ""
    }
   },
   "source": [
    "| Column | Definition | Data type |\n",
    "|--------|------------|-----------|\n",
    "| `STAGE`| Stage of the March | `VARCHAR(50)` |\n",
    "| `DATE` | When the match occurred. | `DATE` |\n",
    "| `PENS` | Did the match end with penalty | `VARCHAR(50)` |\n",
    "| `PENS_HOME_SCORE` | In case of penalty, score by home team | `VARCHAR(50)` |\n",
    "| `PENS_AWAY_SCORE` | In case of penalty, score by away team | `VARCHAR(50)` |\n",
    "| `TEAM_NAME_HOME` | Team home name | `VARCHAR(50)` |\n",
    "| `TEAM_NAME_AWAY`| Team away  name | `VARCHAR(50)` |\n",
    "| `TEAM_HOME_SCORE` | Team home score | `NUMBER` |\n",
    "| `TEAM_AWAY_SCORE` | Team away score | `NUMBER` |\n",
    "| `POSSESSION_HOME` | Ball possession for the home team | `FLOAT` |\n",
    "| `POSSESSION_AWAY` | Ball possession for the away team | `FLOAT` |\n",
    "| `TOTAL_SHOTS_HOME` | Number of shots by the home team | `NUMBER` |\n",
    "| `TOTAL_SHOTS_AWAY` | Number of shots by the away team | `NUMBER`\n",
    "| `SHOTS_ON_TARGET_HOME` | Total shot for home team | `FLOAT` |\n",
    "| `SHOTS_ON_TARGET_AWAY` | Total shot for away team | `FLOAT` |\n",
    "| `DUELS_WON_HOME` | duel win possession of ball - for home team | `NUMBER` |\n",
    "| `DUELS_WON_AWAY` | duel win possession of ball - for away team | `NUMBER` \n",
    "| `PREDICTION_TEAM_HOME_WIN` | Probability of home team to win | `FLOAT` |\n",
    "| `PREDICTION_DRAW` | Probability of draw | `FLOAT` |\n",
    "| `PREDICTION_TEAM_AWAY_WIN` | Probability of away team to win | `FLOAT` |\n",
    "| `LOCATION` | Stadium where the match was held | `VARCHAR(50)` |"
   ]
  },
  {
   "cell_type": "markdown",
   "metadata": {
    "application/vnd.databricks.v1+cell": {
     "cellMetadata": {
      "byteLimit": 2048000,
      "rowLimit": 10000
     },
     "inputWidgets": {},
     "nuid": "b6ed3067-8a31-45a7-9120-766336560fef",
     "showTitle": false,
     "tableResultSettingsMap": {},
     "title": ""
    }
   },
   "source": [
    "### Requerimientos:  \n",
    "-Puedes utilizar SQL o PySpark"
   ]
  },
  {
   "cell_type": "code",
   "execution_count": 0,
   "metadata": {
    "application/vnd.databricks.v1+cell": {
     "cellMetadata": {
      "byteLimit": 2048000,
      "rowLimit": 10000
     },
     "inputWidgets": {},
     "nuid": "3a79617a-671f-497c-b897-4d8fbd968e6a",
     "showTitle": false,
     "tableResultSettingsMap": {},
     "title": ""
    }
   },
   "outputs": [
    {
     "output_type": "stream",
     "name": "stdout",
     "output_type": "stream",
     "text": [
      "+--------------------+------------+-----+---------------+---------------+-----------------+--------------+---------------+---------------+---------------+---------------+----------------+----------------+--------------------+--------------------+--------------+--------------+------------------------+---------------+------------------------+-------------------+\n|               STAGE|        DATE| PENS|PENS_HOME_SCORE|PENS_AWAY_SCORE|   TEAM_NAME_HOME|TEAM_NAME_AWAY|TEAM_HOME_SCORE|TEAM_AWAY_SCORE|POSSESSION_HOME|POSSESSION_AWAY|TOTAL_SHOTS_HOME|TOTAL_SHOTS_AWAY|SHOTS_ON_TARGET_HOME|SHOTS_ON_TARGET_AWAY|DUELS_WON_HOME|DUELS_WON_AWAY|PREDICTION_TEAM_HOME_WIN|PREDICTION_DRAW|PREDICTION_TEAM_AWAY_WIN|           LOCATION|\n+--------------------+------------+-----+---------------+---------------+-----------------+--------------+---------------+---------------+---------------+---------------+----------------+----------------+--------------------+--------------------+--------------+--------------+------------------------+---------------+------------------------+-------------------+\n|              Final | 29-05-2021 |false|          false|          false| Manchester City |      Chelsea |              0|              1|            61%|            39%|               7|               8|                   1|                   2|           50%|           50%|                     55%|             3%|                     42%| Estádio Do Dragão |\n| Semi-finals seco...| 05-05-2021 |false|          false|          false|         Chelsea |  Real Madrid |              2|              0|            32%|            68%|              15|               7|                   5|                   5|           52%|           49%|                     43%|             3%|                     54%|   Stamford Bridge |\n+--------------------+------------+-----+---------------+---------------+-----------------+--------------+---------------+---------------+---------------+---------------+----------------+----------------+--------------------+--------------------+--------------+--------------+------------------------+---------------+------------------------+-------------------+\nonly showing top 2 rows\n\n+--------------------+----------+-----+---------------+---------------+--------------+--------------+---------------+---------------+---------------+---------------+----------------+----------------+--------------------+--------------------+--------------+--------------+------------------------+---------------+------------------------+-----------------+\n|               STAGE|      DATE| PENS|PENS_HOME_SCORE|PENS_AWAY_SCORE|TEAM_NAME_HOME|TEAM_NAME_AWAY|TEAM_HOME_SCORE|TEAM_AWAY_SCORE|POSSESSION_HOME|POSSESSION_AWAY|TOTAL_SHOTS_HOME|TOTAL_SHOTS_AWAY|SHOTS_ON_TARGET_HOME|SHOTS_ON_TARGET_AWAY|DUELS_WON_HOME|DUELS_WON_AWAY|PREDICTION_TEAM_HOME_WIN|PREDICTION_DRAW|PREDICTION_TEAM_AWAY_WIN|         LOCATION|\n+--------------------+----------+-----+---------------+---------------+--------------+--------------+---------------+---------------+---------------+---------------+----------------+----------------+--------------------+--------------------+--------------+--------------+------------------------+---------------+------------------------+-----------------+\n|              Final |2022-05-29|false|          false|          false|     Liverpool|   Real Madrid|              0|              1|            50%|            50%|              23|               3|                  15|                   2|           37%|           63%|                     47%|              2|                     53%|          Anfield|\n| Semi-finals seco...|2022-05-05|false|          false|          false|   Real Madrid|      Man City|              3|              1|            44%|            56%|              14|              15|                   5|                  10|           47%|           53%|                     49%|             10|                     51%|Santiago Bernabeu|\n+--------------------+----------+-----+---------------+---------------+--------------+--------------+---------------+---------------+---------------+---------------+----------------+----------------+--------------------+--------------------+--------------+--------------+------------------------+---------------+------------------------+-----------------+\nonly showing top 2 rows\n\n+--------------------+----------+-----+---------------+---------------+--------------+--------------+---------------+---------------+---------------+---------------+----------------+----------------+--------------------+--------------------+--------------+--------------+------------------------+---------------+------------------------+--------------+\n|               STAGE|      DATE| PENS|PENS_HOME_SCORE|PENS_AWAY_SCORE|TEAM_NAME_HOME|TEAM_NAME_AWAY|TEAM_HOME_SCORE|TEAM_AWAY_SCORE|POSSESSION_HOME|POSSESSION_AWAY|TOTAL_SHOTS_HOME|TOTAL_SHOTS_AWAY|SHOTS_ON_TARGET_HOME|SHOTS_ON_TARGET_AWAY|DUELS_WON_HOME|DUELS_WON_AWAY|PREDICTION_TEAM_HOME_WIN|PREDICTION_DRAW|PREDICTION_TEAM_AWAY_WIN|      LOCATION|\n+--------------------+----------+-----+---------------+---------------+--------------+--------------+---------------+---------------+---------------+---------------+----------------+----------------+--------------------+--------------------+--------------+--------------+------------------------+---------------+------------------------+--------------+\n| Group stage: Mat...|2022-09-06|false|          false|          false| Dinamo Zagreb|       Chelsea|              1|              0|            31%|            69%|               6|              15|                   3|                   3|           44%|           56%|                     49%|             10|                     51%|      Maksimir|\n| Group stage: Mat...|2022-09-06|false|          false|          false|      Salzburg|      AC Milan|              1|              1|            34%|            66%|              16|              14|                   4|                   3|           38%|           62%|                     41%|              9|                     59%|Red Bull Arena|\n+--------------------+----------+-----+---------------+---------------+--------------+--------------+---------------+---------------+---------------+---------------+----------------+----------------+--------------------+--------------------+--------------+--------------+------------------------+---------------+------------------------+--------------+\nonly showing top 2 rows\n\n"
     ]
    }
   ],
   "source": [
    "from pyspark.sql import (\n",
    "    SparkSession,\n",
    "    types,\n",
    "    functions as F,\n",
    ")\n",
    "\n",
    "spark = (\n",
    "    SparkSession\n",
    "    .builder\n",
    "    .appName('Caso_2')\n",
    "    .getOrCreate()\n",
    ")\n",
    "\n",
    "df_uefa_2020 = spark.read.csv('/FileStore/Caso_2/uefa_2020.csv', header=True, inferSchema=True)\n",
    "df_uefa_2021 = spark.read.csv('/FileStore/Caso_2/uefa_2021.csv', header=True, inferSchema=True)\n",
    "df_uefa_2022 = spark.read.csv('/FileStore/Caso_2/uefa_2022.csv', header=True, inferSchema=True)\n",
    "\n",
    "df_uefa_2020.show(2)\n",
    "df_uefa_2021.show(2)\n",
    "df_uefa_2022.show(2)"
   ]
  },
  {
   "cell_type": "markdown",
   "metadata": {
    "application/vnd.databricks.v1+cell": {
     "cellMetadata": {
      "byteLimit": 2048000,
      "rowLimit": 10000
     },
     "inputWidgets": {},
     "nuid": "96872dad-7ed6-4372-84e9-763aa2d6c83f",
     "showTitle": false,
     "tableResultSettingsMap": {},
     "title": ""
    }
   },
   "source": [
    "1. Encuentra los 3 equipos que anotaron más goles jugando en su estadio en la UEFA Champions League 2020-21. El resultado debe contener dos columnas: TEAM_NAME_HOME y TEAM_HOME_SCORE ordenadas en orden descendente de TEAM_HOME_SCORE. Guarda la consulta (o el notebook) como TEAM_HOME_WITH_MOST_GOALS."
   ]
  },
  {
   "cell_type": "code",
   "execution_count": 0,
   "metadata": {
    "application/vnd.databricks.v1+cell": {
     "cellMetadata": {
      "byteLimit": 2048000,
      "rowLimit": 10000
     },
     "inputWidgets": {},
     "nuid": "605a73b1-7ca5-452a-aa06-2150416a4ea6",
     "showTitle": false,
     "tableResultSettingsMap": {},
     "title": ""
    }
   },
   "outputs": [
    {
     "output_type": "stream",
     "name": "stdout",
     "output_type": "stream",
     "text": [
      "+-------------------+----------------+\n|     TEAM_NAME_HOME|TOTAL_HOME_GOALS|\n+-------------------+----------------+\n| Manchester United |              10|\n|     Bayern Munich |               9|\n|   Manchester City |               9|\n+-------------------+----------------+\n\n"
     ]
    }
   ],
   "source": [
    "from pyspark.sql.functions import col, sum as spark_sum\n",
    "\n",
    "df_union = df_uefa_2020.union(df_uefa_2021).union(df_uefa_2022)\n",
    "\n",
    "# Filtro los datos para la temporada 2020-21\n",
    "df_filtrado = df_union.filter(df_union['DATE'].like('%2020%'))\n",
    "\n",
    "# Creo un df nuevo con los goles por equipo ordenado de manera descendente.\n",
    "df_team_home_goals = df_filtrado.groupBy(\"TEAM_NAME_HOME\") \\\n",
    "    .agg(spark_sum(col(\"TEAM_HOME_SCORE\")).alias(\"TOTAL_HOME_GOALS\")) \\\n",
    "    .orderBy(col(\"TOTAL_HOME_GOALS\").desc())\n",
    "\n",
    "# Creo un df nuevo con los 3 primeros y los muestro\n",
    "top_3_equipos_mas_goleadores = df_team_home_goals.limit(3)\n",
    "top_3_equipos_mas_goleadores.show()"
   ]
  },
  {
   "cell_type": "markdown",
   "metadata": {
    "application/vnd.databricks.v1+cell": {
     "cellMetadata": {
      "byteLimit": 2048000,
      "rowLimit": 10000
     },
     "inputWidgets": {},
     "nuid": "b375e92e-5c96-4ee8-8c35-29b8e7ab887f",
     "showTitle": false,
     "tableResultSettingsMap": {},
     "title": ""
    }
   },
   "source": [
    "2. Encuentra el equipo con posesión mayoritaria la mayor cantidad de veces durante la UEFA Champions League 2021-22. El resultado debe incluir dos columnas: TEAM_NAME y GAME_COUNT, que es la cantidad de veces que el equipo tuvo posesión mayoritaria durante un partido de fútbol. Guarda esta consulta (o el notebook) como TEAM_WITH_MAJORITY_POSSESSION"
   ]
  },
  {
   "cell_type": "code",
   "execution_count": 0,
   "metadata": {
    "application/vnd.databricks.v1+cell": {
     "cellMetadata": {
      "byteLimit": 2048000,
      "rowLimit": 10000
     },
     "inputWidgets": {},
     "nuid": "33f247d1-1c13-47b5-b874-5e5c1f290ae4",
     "showTitle": false,
     "tableResultSettingsMap": {},
     "title": ""
    }
   },
   "outputs": [
    {
     "output_type": "stream",
     "name": "stdout",
     "output_type": "stream",
     "text": [
      "+-----------------+----------+\n|        TEAM_NAME|GAME_COUNT|\n+-----------------+----------+\n| Manchester City |         6|\n+-----------------+----------+\nonly showing top 1 row\n\n"
     ]
    }
   ],
   "source": [
    "from pyspark.sql.functions import when, count\n",
    "\n",
    "df_filtrado = df_union.filter(df_union['DATE'].like('%2021%'))\n",
    "\n",
    "# Creo un df con una columna en la que se indica por cada partido el nombre del equipo que más posesión obtuvo.\n",
    "df_con_mayor_posesion = df_filtrado.withColumn(\n",
    "    \"TEAM_NAME\",\n",
    "    when(col(\"POSSESSION_HOME\") > col(\"POSSESSION_AWAY\"), col(\"TEAM_NAME_HOME\"))\n",
    "    .when(col(\"POSSESSION_AWAY\") > col(\"POSSESSION_HOME\"), col(\"TEAM_NAME_AWAY\"))\n",
    ")\n",
    "\n",
    "# Creo un df nuevo con sólo las filas que no tengan valor nulo en la columna TEAM_NAME\n",
    "df_limpio = df_con_mayor_posesion.filter(col(\"TEAM_NAME\").isNotNull())\n",
    "\n",
    "# A partir del df limpio de la línea anterior, creo otro con una columna \"GAME_COUNT\" que se obtiene de contar el número de veces que aparece el equipo en la columna \"TEAM_NAME\". Después lo ordeno de manera descendente.\n",
    "df_con_numero_de_mayores_posesiones = df_limpio.groupBy(\"TEAM_NAME\") \\\n",
    "    .agg(count(\"TEAM_NAME\").alias(\"GAME_COUNT\")) \\\n",
    "    .orderBy(col(\"GAME_COUNT\").desc())\n",
    "\n",
    "# Muestro sólo el primero que es el que más partidos con mayor posesión tuvo\n",
    "df_con_numero_de_mayores_posesiones.show(1)"
   ]
  },
  {
   "cell_type": "markdown",
   "metadata": {
    "application/vnd.databricks.v1+cell": {
     "cellMetadata": {
      "byteLimit": 2048000,
      "rowLimit": 10000
     },
     "inputWidgets": {},
     "nuid": "7c960a38-f12d-4b88-aaad-b70de0c2323f",
     "showTitle": false,
     "tableResultSettingsMap": {},
     "title": ""
    }
   },
   "source": [
    "3. Encuentra la lista de equipos de cada fase del juego que ganaron el duelo en un partido pero terminaron perdiendo el juego en el Campeonato de la UEFA 2022-23. El resultado debe contener dos columnas: STAGE y TEAM_LOST. Guarda la consulta (o el notebook) como TEAM_WON_DUEL_LOST_GAME_STAGE_WISE."
   ]
  },
  {
   "cell_type": "code",
   "execution_count": 0,
   "metadata": {
    "application/vnd.databricks.v1+cell": {
     "cellMetadata": {
      "byteLimit": 2048000,
      "rowLimit": 10000
     },
     "inputWidgets": {},
     "nuid": "5b5a904a-58be-4e45-8a29-d16b3b8fa65f",
     "showTitle": false,
     "tableResultSettingsMap": {},
     "title": ""
    }
   },
   "outputs": [
    {
     "output_type": "stream",
     "name": "stdout",
     "output_type": "stream",
     "text": [
      "+--------------------------+------------------+\n|STAGE                     |TEAM_LOST         |\n+--------------------------+------------------+\n| Semi-finals second leg   |Man City          |\n| Semi-finals first leg    |Villarreal        |\n| Semi-finals first leg    |Real Madrid       |\n| Quarter-finals first leg |Bayern            |\n| Quarter-finals first leg |Atl�tico de Madrid|\n| Round of 16 second leg   |Paris             |\n| Round of 16 second leg   |Salzburg          |\n| Round of 16 first leg    |Lille             |\n| Round of 16 first leg    |Real Madrid       |\n| Group stage: Matchday 1  |Chelsea           |\n| Group stage: Matchday 1  |K�benhavn         |\n| Group stage: Matchday 1  |Juventus          |\n| Group stage: Matchday 1  |Maccabi Haifa     |\n| Group stage: Matchday 1  |Rangers           |\n| Group stage: Matchday 1  |Liverpool         |\n| Group stage: Matchday 1  |Porto             |\n| Group stage: Matchday 1  |Bayer Leverkusen  |\n| Group stage: Matchday 1  |Viktoria Plze?    |\n| Group stage: Matchday 1  |Marseille         |\n| Group stage: Matchday 2  |Ajax              |\n+--------------------------+------------------+\nonly showing top 20 rows\n\n"
     ]
    }
   ],
   "source": [
    "df_filtrado = df_union.filter(df_union['DATE'].like('%2022%'))\n",
    "\n",
    "# Creo un df con una nueva columna \"TEAM_LOST\" en la que se almacenan los nombres de los equipos que han perdido el partido cuando su porcentaje de victorias es mayor al contrario.\n",
    "df_equipos_con_mayor_porcentaje_pero_perdieron = df_filtrado.withColumn(\n",
    "    \"TEAM_LOST\",\n",
    "    when((col(\"DUELS_WON_HOME\") > col(\"DUELS_WON_AWAY\")) & (col(\"TEAM_HOME_SCORE\") < col(\"TEAM_AWAY_SCORE\")), col(\"TEAM_NAME_HOME\"))\n",
    "    .when((col(\"DUELS_WON_AWAY\") > col(\"DUELS_WON_HOME\")) & (col(\"TEAM_AWAY_SCORE\") < col(\"TEAM_HOME_SCORE\")), col(\"TEAM_NAME_AWAY\"))\n",
    ")\n",
    "\n",
    "# Quito los posibles nulos y creo un df nuevo con ese filtro y sólo con las columnas \"STAGE\" y \"TEAM_LOST\"\n",
    "df_final = df_equipos_con_mayor_porcentaje_pero_perdieron.filter(col(\"TEAM_LOST\").isNotNull()).select(\"STAGE\", \"TEAM_LOST\")\n",
    "df_final.show(truncate=False)"
   ]
  }
 ],
 "metadata": {
  "application/vnd.databricks.v1+notebook": {
   "dashboards": [],
   "environmentMetadata": null,
   "language": "python",
   "notebookMetadata": {
    "pythonIndentUnit": 4
   },
   "notebookName": "Caso_2",
   "widgets": {}
  }
 },
 "nbformat": 4,
 "nbformat_minor": 0
}
